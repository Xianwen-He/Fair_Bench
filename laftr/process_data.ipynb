{
 "cells": [
  {
   "cell_type": "code",
   "execution_count": 1,
   "id": "70405993-7ce0-4669-b905-3cb1e1812918",
   "metadata": {},
   "outputs": [],
   "source": [
    "import numpy as np\n",
    "import copy\n",
    "import os"
   ]
  },
  {
   "cell_type": "markdown",
   "id": "6ae98878-1289-40bb-b56b-ebc47b66936c",
   "metadata": {},
   "source": [
    "## Readin Adult data from fair_bench/data"
   ]
  },
  {
   "cell_type": "code",
   "execution_count": 2,
   "id": "cf540ed7-8a67-40dd-a72b-ced8fa1116c5",
   "metadata": {},
   "outputs": [
    {
     "data": {
      "text/plain": [
       "'/nas/longleaf/home/xianwen/fairness/fair_bench/laftr'"
      ]
     },
     "execution_count": 2,
     "metadata": {},
     "output_type": "execute_result"
    }
   ],
   "source": [
    "os.getcwd()"
   ]
  },
  {
   "cell_type": "code",
   "execution_count": 3,
   "id": "a55dff6e-7756-49d1-97e5-ba6d8b2ff33a",
   "metadata": {},
   "outputs": [],
   "source": [
    "os.chdir('/nas/longleaf/home/xianwen/fairness/fair_bench')"
   ]
  },
  {
   "cell_type": "code",
   "execution_count": 4,
   "id": "f8744985-3654-4bae-94ef-4984a2b6df52",
   "metadata": {},
   "outputs": [],
   "source": [
    "from data.process_data import get_adult_data\n",
    "\n",
    "train_df, test_df, feature_names, label_column = get_adult_data('./data/adult')"
   ]
  },
  {
   "cell_type": "code",
   "execution_count": 5,
   "id": "82833a3c-8b98-4fb9-8ae6-e552704a254c",
   "metadata": {},
   "outputs": [
    {
     "data": {
      "text/plain": [
       "(32561, 123)"
      ]
     },
     "execution_count": 5,
     "metadata": {},
     "output_type": "execute_result"
    }
   ],
   "source": [
    "train_df.shape"
   ]
  },
  {
   "cell_type": "code",
   "execution_count": 6,
   "id": "1f7af3d0-696c-4d9d-9747-9595caa946dd",
   "metadata": {},
   "outputs": [
    {
     "data": {
      "text/plain": [
       "(16281, 123)"
      ]
     },
     "execution_count": 6,
     "metadata": {},
     "output_type": "execute_result"
    }
   ],
   "source": [
    "test_df.shape"
   ]
  },
  {
   "cell_type": "code",
   "execution_count": 7,
   "id": "4cd11a18-0474-4cd5-a802-60b69385c8b5",
   "metadata": {},
   "outputs": [
    {
     "data": {
      "text/plain": [
       "['workclass_?',\n",
       " 'workclass_Federal-gov',\n",
       " 'workclass_Local-gov',\n",
       " 'workclass_Never-worked',\n",
       " 'workclass_Private',\n",
       " 'workclass_Self-emp-inc',\n",
       " 'workclass_Self-emp-not-inc',\n",
       " 'workclass_State-gov',\n",
       " 'workclass_Without-pay',\n",
       " 'education_10th',\n",
       " 'education_11th',\n",
       " 'education_12th',\n",
       " 'education_1st-4th',\n",
       " 'education_5th-6th',\n",
       " 'education_7th-8th',\n",
       " 'education_9th',\n",
       " 'education_Assoc-acdm',\n",
       " 'education_Assoc-voc',\n",
       " 'education_Bachelors',\n",
       " 'education_Doctorate',\n",
       " 'education_HS-grad',\n",
       " 'education_Masters',\n",
       " 'education_Preschool',\n",
       " 'education_Prof-school',\n",
       " 'education_Some-college',\n",
       " 'marital_status_Divorced',\n",
       " 'marital_status_Married-AF-spouse',\n",
       " 'marital_status_Married-civ-spouse',\n",
       " 'marital_status_Married-spouse-absent',\n",
       " 'marital_status_Never-married',\n",
       " 'marital_status_Separated',\n",
       " 'marital_status_Widowed',\n",
       " 'occupation_?',\n",
       " 'occupation_Adm-clerical',\n",
       " 'occupation_Armed-Forces',\n",
       " 'occupation_Craft-repair',\n",
       " 'occupation_Exec-managerial',\n",
       " 'occupation_Farming-fishing',\n",
       " 'occupation_Handlers-cleaners',\n",
       " 'occupation_Machine-op-inspct',\n",
       " 'occupation_Other-service',\n",
       " 'occupation_Priv-house-serv',\n",
       " 'occupation_Prof-specialty',\n",
       " 'occupation_Protective-serv',\n",
       " 'occupation_Sales',\n",
       " 'occupation_Tech-support',\n",
       " 'occupation_Transport-moving',\n",
       " 'relationship_Husband',\n",
       " 'relationship_Not-in-family',\n",
       " 'relationship_Other-relative',\n",
       " 'relationship_Own-child',\n",
       " 'relationship_Unmarried',\n",
       " 'relationship_Wife',\n",
       " 'race_Amer-Indian-Eskimo',\n",
       " 'race_Asian-Pac-Islander',\n",
       " 'race_Black',\n",
       " 'race_Other',\n",
       " 'race_White',\n",
       " 'gender_Female',\n",
       " 'gender_Male',\n",
       " 'native_country_?',\n",
       " 'native_country_Cambodia',\n",
       " 'native_country_Canada',\n",
       " 'native_country_China',\n",
       " 'native_country_Columbia',\n",
       " 'native_country_Cuba',\n",
       " 'native_country_Dominican-Republic',\n",
       " 'native_country_Ecuador',\n",
       " 'native_country_El-Salvador',\n",
       " 'native_country_England',\n",
       " 'native_country_France',\n",
       " 'native_country_Germany',\n",
       " 'native_country_Greece',\n",
       " 'native_country_Guatemala',\n",
       " 'native_country_Haiti',\n",
       " 'native_country_Honduras',\n",
       " 'native_country_Hong',\n",
       " 'native_country_Hungary',\n",
       " 'native_country_India',\n",
       " 'native_country_Iran',\n",
       " 'native_country_Ireland',\n",
       " 'native_country_Italy',\n",
       " 'native_country_Jamaica',\n",
       " 'native_country_Japan',\n",
       " 'native_country_Laos',\n",
       " 'native_country_Mexico',\n",
       " 'native_country_Nicaragua',\n",
       " 'native_country_Outlying-US(Guam-USVI-etc)',\n",
       " 'native_country_Peru',\n",
       " 'native_country_Philippines',\n",
       " 'native_country_Poland',\n",
       " 'native_country_Portugal',\n",
       " 'native_country_Puerto-Rico',\n",
       " 'native_country_Scotland',\n",
       " 'native_country_South',\n",
       " 'native_country_Taiwan',\n",
       " 'native_country_Thailand',\n",
       " 'native_country_Trinadad&Tobago',\n",
       " 'native_country_United-States',\n",
       " 'native_country_Vietnam',\n",
       " 'native_country_Yugoslavia',\n",
       " 'age_0.0',\n",
       " 'age_1.0',\n",
       " 'age_2.0',\n",
       " 'age_3.0',\n",
       " 'capital_gain_0',\n",
       " 'capital_gain_1',\n",
       " 'capital_gain_2',\n",
       " 'capital_gain_3',\n",
       " 'capital_loss_0',\n",
       " 'capital_loss_1',\n",
       " 'capital_loss_2',\n",
       " 'capital_loss_3',\n",
       " 'hours_per_week_0',\n",
       " 'hours_per_week_1',\n",
       " 'hours_per_week_2',\n",
       " 'hours_per_week_3',\n",
       " 'education_num_0',\n",
       " 'education_num_1',\n",
       " 'education_num_2',\n",
       " 'education_num_3',\n",
       " 'native_country_Holand-Netherlands']"
      ]
     },
     "execution_count": 7,
     "metadata": {},
     "output_type": "execute_result"
    }
   ],
   "source": [
    "feature_names"
   ]
  },
  {
   "cell_type": "code",
   "execution_count": 8,
   "id": "5d7431e1-1d49-4108-bc4b-30beaf5a6a41",
   "metadata": {},
   "outputs": [
    {
     "data": {
      "text/plain": [
       "1.0"
      ]
     },
     "execution_count": 8,
     "metadata": {},
     "output_type": "execute_result"
    }
   ],
   "source": [
    "np.mean(train_df['gender_Female']+train_df['gender_Male'])"
   ]
  },
  {
   "cell_type": "code",
   "execution_count": 9,
   "id": "6d119934-0365-469d-be3f-e0824a542ab9",
   "metadata": {},
   "outputs": [
    {
     "data": {
      "text/plain": [
       "1.0"
      ]
     },
     "execution_count": 9,
     "metadata": {},
     "output_type": "execute_result"
    }
   ],
   "source": [
    "np.mean(test_df['gender_Female']+test_df['gender_Male'])"
   ]
  },
  {
   "cell_type": "code",
   "execution_count": 10,
   "id": "df58ca05-33c3-4616-9d53-1ed05d1e1402",
   "metadata": {},
   "outputs": [
    {
     "data": {
      "text/plain": [
       "array([0, 1])"
      ]
     },
     "execution_count": 10,
     "metadata": {},
     "output_type": "execute_result"
    }
   ],
   "source": [
    "train_df[label_column].unique()"
   ]
  },
  {
   "cell_type": "code",
   "execution_count": 11,
   "id": "e9bccb76-0e21-4ed0-8a80-819bb3ce86ed",
   "metadata": {},
   "outputs": [
    {
     "data": {
      "text/plain": [
       "array([0, 1])"
      ]
     },
     "execution_count": 11,
     "metadata": {},
     "output_type": "execute_result"
    }
   ],
   "source": [
    "test_df[label_column].unique()"
   ]
  },
  {
   "cell_type": "markdown",
   "id": "c6d3a4c9-7a02-4475-b134-56a47fd6b36f",
   "metadata": {},
   "source": [
    "**What we do?**:\n",
    "* Set Y as double column\n",
    "* Set A as a single column\n",
    "* Centralization for all the columns in X\n",
    "* Get indices for the validation set\n",
    "* Save X, Y, A, and valid_inds as npz."
   ]
  },
  {
   "cell_type": "markdown",
   "id": "8ab45e1a-5044-49c5-899d-af6ccf8e3161",
   "metadata": {},
   "source": [
    "### Align Data"
   ]
  },
  {
   "cell_type": "code",
   "execution_count": 12,
   "id": "703d3b26-6b8f-446e-8797-22212a9d2b82",
   "metadata": {},
   "outputs": [],
   "source": [
    "def whiten(X, mn, std, EPS=1e-8):\n",
    "    mntile = np.tile(mn, (X.shape[0], 1))\n",
    "    stdtile = np.maximum(np.tile(std, (X.shape[0], 1)), EPS)\n",
    "    X = X - mntile\n",
    "    X = np.divide(X, stdtile)\n",
    "    return X\n",
    "\n",
    "def centralization(X_train, X_test=None):\n",
    "    mn = np.mean(X_train, axis=0)\n",
    "    std = np.std(X_train, axis=0)\n",
    "    \n",
    "    X_train_whiten =  whiten(X_train, mn, std)\n",
    "    if X_test is not None:\n",
    "        X_test_whiten = whiten(X_test, mn, std)\n",
    "        return X_train_whiten, X_test_whiten\n",
    "    else:\n",
    "        return X_train_whiten, None"
   ]
  },
  {
   "cell_type": "code",
   "execution_count": 13,
   "id": "03d4ecd5-0f17-4044-9fd8-1f2cdc116b2f",
   "metadata": {},
   "outputs": [],
   "source": [
    "def split_senstitive_attrs(df, label_name, sensitive_attrs):\n",
    "    \"\"\"\n",
    "    Remove the columns containing sensitive information from the df\n",
    "    and store the values into a dictionary\n",
    "    Remove the label column\n",
    "\n",
    "    Input:\n",
    "        df: data frame\n",
    "        sensitive_attrs: list of senstitive attributes\n",
    "\n",
    "    Output:\n",
    "        nonsenstitive_df: data frame free of senstitive attributes and the labels\n",
    "        labels: labels\n",
    "        control_dicn: {'senstitive_attr': [values], ...}\n",
    "\n",
    "  \"\"\"\n",
    "    control_dicn = {}\n",
    "    nonsenstitive_df = copy.deepcopy(df)\n",
    "\n",
    "    # split sensitive attributes\n",
    "    for attr in sensitive_attrs:\n",
    "        if attr not in df.columns:\n",
    "            print(\"Warning: Column {} does NOT exist!\".format(attr))\n",
    "        else:\n",
    "            control_dicn[attr] = nonsenstitive_df.pop(attr).to_numpy()\n",
    "    \n",
    "    # split the label column\n",
    "    labels = nonsenstitive_df.pop(label_name).to_numpy()\n",
    "\n",
    "    return nonsenstitive_df, labels, control_dicn\n"
   ]
  },
  {
   "cell_type": "code",
   "execution_count": 14,
   "id": "6315d2cc-8ccd-4918-9f64-c18fdf204199",
   "metadata": {},
   "outputs": [],
   "source": [
    "def process_train_test_df_laftr(train_df, test_df, label_name,\n",
    "                        senstitive_attrs, indicators,\n",
    "                        valid_ratio=0.2, seed=0,\n",
    "                        central=False):\n",
    "    \"\"\"\n",
    "    Take the training and testing set. \n",
    "    Split them into the X, y, and the column indicating demographic information.\n",
    "    \"\"\"\n",
    "    x_train, y_train, x_train_control_all = split_senstitive_attrs(train_df, label_name, senstitive_attrs)\n",
    "    x_test, y_test, x_test_control_all = split_senstitive_attrs(test_df, label_name, senstitive_attrs)\n",
    "\n",
    "    # Only retain attrs listed in indicators.\n",
    "    # Usually we choose the group that is potentially discriminated against here (e.g. Female), \n",
    "    # as by default, A=1 indicates the protected group\n",
    "    a_train = np.array([np.array(x_train_control_all[attr], dtype=float) for attr in indicators]).T\n",
    "    a_test = np.array([np.array(x_test_control_all[attr], dtype=float) for attr in indicators]).T\n",
    "    \n",
    "    # convert y into dummy variables\n",
    "    y_train = np.array(y_train, dtype=float)\n",
    "    y_test = np.array(y_test, dtype=float)\n",
    "    y_train = np.array([1-y_train, y_train]).T\n",
    "    y_test = np.array([1-y_test, y_test]).T\n",
    "    \n",
    "    # convert x into np.array\n",
    "    x_train = np.array(x_train, dtype=float)\n",
    "    x_test = np.array(x_test, dtype=float)\n",
    "    # centralization\n",
    "    if central:\n",
    "        x_train, x_test = centralization(x_train, x_test)\n",
    "        \n",
    "    # take the indices for the validation set\n",
    "    np.random.seed(seed)\n",
    "    shuf = np.random.permutation(x_train.shape[0])\n",
    "    valid_ct = int(x_train.shape[0] * valid_ratio)\n",
    "    valid_inds = shuf[:valid_ct]\n",
    "    train_inds = shuf[valid_ct:]\n",
    "        \n",
    "\n",
    "    return x_train, y_train, a_train, x_test, y_test, a_test, train_inds, valid_inds"
   ]
  },
  {
   "cell_type": "code",
   "execution_count": 15,
   "id": "a87d9aaa-f18c-48b4-a900-2b0298793901",
   "metadata": {},
   "outputs": [],
   "source": [
    "x_train, y_train, a_train, x_test, y_test, a_test, train_inds, valid_inds = process_train_test_df_laftr(train_df, test_df, 'label',\n",
    "                        ['gender_Male', 'gender_Female'], ['gender_Female'],\n",
    "                        0.2, 0,\n",
    "                        True)"
   ]
  },
  {
   "cell_type": "code",
   "execution_count": 16,
   "id": "bcf772f8-55a2-49ea-b640-1ea088ba866e",
   "metadata": {},
   "outputs": [
    {
     "data": {
      "text/plain": [
       "(32561, 120)"
      ]
     },
     "execution_count": 16,
     "metadata": {},
     "output_type": "execute_result"
    }
   ],
   "source": [
    "x_train.shape"
   ]
  },
  {
   "cell_type": "code",
   "execution_count": 17,
   "id": "c171adc7-cf70-4f35-9758-8cf7dddd57a1",
   "metadata": {},
   "outputs": [
    {
     "data": {
      "text/plain": [
       "(32561, 2)"
      ]
     },
     "execution_count": 17,
     "metadata": {},
     "output_type": "execute_result"
    }
   ],
   "source": [
    "y_train.shape"
   ]
  },
  {
   "cell_type": "code",
   "execution_count": 18,
   "id": "ef2024c3-46d5-4401-a40c-d1325b75de8e",
   "metadata": {},
   "outputs": [
    {
     "data": {
      "text/plain": [
       "(32561, 1)"
      ]
     },
     "execution_count": 18,
     "metadata": {},
     "output_type": "execute_result"
    }
   ],
   "source": [
    "a_train.shape"
   ]
  },
  {
   "cell_type": "code",
   "execution_count": 19,
   "id": "afa1a9a6-daef-4019-889e-7ba368febe2a",
   "metadata": {},
   "outputs": [
    {
     "data": {
      "text/plain": [
       "(26049,)"
      ]
     },
     "execution_count": 19,
     "metadata": {},
     "output_type": "execute_result"
    }
   ],
   "source": [
    "train_inds.shape"
   ]
  },
  {
   "cell_type": "code",
   "execution_count": 20,
   "id": "5fe6c828",
   "metadata": {},
   "outputs": [],
   "source": [
    "f_out_np = './laftr/data/adult/adult.npz'\n",
    "np.savez(f_out_np, x_train=x_train, x_test=x_test,\n",
    "         y_train=y_train, y_test=y_test,\n",
    "         attr_train=a_train, attr_test=a_test,\n",
    "         train_inds=train_inds, valid_inds=valid_inds)"
   ]
  },
  {
   "cell_type": "markdown",
   "id": "6ac11684-93e9-4d4c-b43a-8784383a9331",
   "metadata": {},
   "source": [
    "### Process COMPAS"
   ]
  },
  {
   "cell_type": "code",
   "execution_count": 21,
   "id": "bbba2fc9-0e0e-4622-827c-19468a43e790",
   "metadata": {},
   "outputs": [],
   "source": [
    "from data.process_data import get_compas_data\n",
    "\n",
    "train_df, test_df, feature_names, label_column = get_compas_data('./data/compas')"
   ]
  },
  {
   "cell_type": "code",
   "execution_count": 22,
   "id": "fb9e5a3c-d772-40e0-ae06-a4ba587602e9",
   "metadata": {},
   "outputs": [
    {
     "data": {
      "text/plain": [
       "['days_b_screening_arrest',\n",
       " 'c_charge_degree_F',\n",
       " 'c_charge_degree_M',\n",
       " 'race_African-American',\n",
       " 'race_Caucasian',\n",
       " 'score_text_High',\n",
       " 'score_text_Low',\n",
       " 'score_text_Medium',\n",
       " 'sex_Female',\n",
       " 'sex_Male',\n",
       " 'age_0',\n",
       " 'age_1',\n",
       " 'age_2',\n",
       " 'age_3',\n",
       " 'age_4',\n",
       " 'age_5',\n",
       " 'decile_score_0',\n",
       " 'decile_score_1',\n",
       " 'decile_score_2',\n",
       " 'decile_score_3',\n",
       " 'decile_score_4',\n",
       " 'decile_score_5',\n",
       " 'priors_count_0.0',\n",
       " 'priors_count_1.0',\n",
       " 'priors_count_2.0',\n",
       " 'priors_count_3.0',\n",
       " 'priors_count_4.0']"
      ]
     },
     "execution_count": 22,
     "metadata": {},
     "output_type": "execute_result"
    }
   ],
   "source": [
    "feature_names"
   ]
  },
  {
   "cell_type": "code",
   "execution_count": 23,
   "id": "712e9f20-78c0-456f-be21-b4584ba76b1b",
   "metadata": {},
   "outputs": [
    {
     "data": {
      "text/plain": [
       "1.0"
      ]
     },
     "execution_count": 23,
     "metadata": {},
     "output_type": "execute_result"
    }
   ],
   "source": [
    "np.mean(train_df['race_African-American']+train_df['race_Caucasian'])"
   ]
  },
  {
   "cell_type": "code",
   "execution_count": 24,
   "id": "cecbc196-eea8-492c-beea-c4d61c3aeda9",
   "metadata": {},
   "outputs": [
    {
     "data": {
      "text/plain": [
       "1.0"
      ]
     },
     "execution_count": 24,
     "metadata": {},
     "output_type": "execute_result"
    }
   ],
   "source": [
    "np.mean(test_df['race_African-American']+test_df['race_Caucasian'])"
   ]
  },
  {
   "cell_type": "code",
   "execution_count": 25,
   "id": "0b913cbe-d94b-4e7b-b4ea-3de10c62944b",
   "metadata": {},
   "outputs": [
    {
     "data": {
      "text/plain": [
       "'two_year_norecid'"
      ]
     },
     "execution_count": 25,
     "metadata": {},
     "output_type": "execute_result"
    }
   ],
   "source": [
    "label_column"
   ]
  },
  {
   "cell_type": "code",
   "execution_count": 26,
   "id": "af844cf9-6685-4181-a6ef-7aac3dd1bd0e",
   "metadata": {},
   "outputs": [
    {
     "data": {
      "text/plain": [
       "array([0., 1.])"
      ]
     },
     "execution_count": 26,
     "metadata": {},
     "output_type": "execute_result"
    }
   ],
   "source": [
    "train_df[label_column].unique()"
   ]
  },
  {
   "cell_type": "code",
   "execution_count": 27,
   "id": "debae304-8a43-49d7-8fe7-2344d5cee850",
   "metadata": {},
   "outputs": [
    {
     "data": {
      "text/plain": [
       "array([0., 1.])"
      ]
     },
     "execution_count": 27,
     "metadata": {},
     "output_type": "execute_result"
    }
   ],
   "source": [
    "test_df[label_column].unique()"
   ]
  },
  {
   "cell_type": "code",
   "execution_count": 28,
   "id": "8d226393-b984-4ecf-b897-8ed5d0fb2efe",
   "metadata": {},
   "outputs": [],
   "source": [
    "x_train, y_train, a_train, x_test, y_test, a_test, train_inds, valid_inds = process_train_test_df_laftr(train_df, test_df, label_column,\n",
    "                        ['race_Caucasian', 'race_African-American'], ['race_African-American'],\n",
    "                        0.2, 0,\n",
    "                        True)"
   ]
  },
  {
   "cell_type": "code",
   "execution_count": 29,
   "id": "ee43d628-aec0-451c-a0b0-bfe4af59182e",
   "metadata": {},
   "outputs": [
    {
     "data": {
      "text/plain": [
       "(3483, 25)"
      ]
     },
     "execution_count": 29,
     "metadata": {},
     "output_type": "execute_result"
    }
   ],
   "source": [
    "x_train.shape"
   ]
  },
  {
   "cell_type": "code",
   "execution_count": 30,
   "id": "d82a8a37-42ed-4937-a518-1b813c2f5b8c",
   "metadata": {},
   "outputs": [
    {
     "data": {
      "text/plain": [
       "(3483, 2)"
      ]
     },
     "execution_count": 30,
     "metadata": {},
     "output_type": "execute_result"
    }
   ],
   "source": [
    "y_train.shape"
   ]
  },
  {
   "cell_type": "code",
   "execution_count": 31,
   "id": "54603a8b-b34e-4b63-8012-87f6ca57f3ef",
   "metadata": {},
   "outputs": [
    {
     "data": {
      "text/plain": [
       "(3483, 1)"
      ]
     },
     "execution_count": 31,
     "metadata": {},
     "output_type": "execute_result"
    }
   ],
   "source": [
    "a_train.shape"
   ]
  },
  {
   "cell_type": "code",
   "execution_count": 32,
   "id": "33250554-1c03-4827-9b91-87458dbd23bf",
   "metadata": {},
   "outputs": [
    {
     "data": {
      "text/plain": [
       "(2787,)"
      ]
     },
     "execution_count": 32,
     "metadata": {},
     "output_type": "execute_result"
    }
   ],
   "source": [
    "train_inds.shape"
   ]
  },
  {
   "cell_type": "code",
   "execution_count": 33,
   "id": "f864eda3-1a0b-4bc1-bc92-99827f05ad6f",
   "metadata": {},
   "outputs": [],
   "source": [
    "f_out_np = './laftr/data/compas/compas.npz'\n",
    "np.savez(f_out_np, x_train=x_train, x_test=x_test,\n",
    "         y_train=y_train, y_test=y_test,\n",
    "         attr_train=a_train, attr_test=a_test,\n",
    "         train_inds=train_inds, valid_inds=valid_inds)"
   ]
  },
  {
   "cell_type": "markdown",
   "id": "b1103b9e-32b3-4bfe-8ff2-afcf81102971",
   "metadata": {},
   "source": [
    "## Double Check"
   ]
  },
  {
   "cell_type": "code",
   "execution_count": 44,
   "id": "35768a54-adc5-420a-8017-d2bdae95a54a",
   "metadata": {},
   "outputs": [],
   "source": [
    "X_adult = np.load('./laftr/data/adult/adult.npz')['x_train']"
   ]
  },
  {
   "cell_type": "code",
   "execution_count": 46,
   "id": "b580edfc-474f-4e87-b9cb-24f4b2724977",
   "metadata": {},
   "outputs": [
    {
     "data": {
      "text/plain": [
       "(32561, 120)"
      ]
     },
     "execution_count": 46,
     "metadata": {},
     "output_type": "execute_result"
    }
   ],
   "source": [
    "X_adult.shape"
   ]
  },
  {
   "cell_type": "code",
   "execution_count": 49,
   "id": "d0921d78-bb12-43b2-8c0b-0c2b38f39e49",
   "metadata": {},
   "outputs": [],
   "source": [
    "X_compas = np.load('./laftr/data/compas/compas.npz')['x_train']"
   ]
  },
  {
   "cell_type": "code",
   "execution_count": 50,
   "id": "2e6acf7b-4352-4bc9-9065-9ff0bfae95b3",
   "metadata": {},
   "outputs": [
    {
     "data": {
      "text/plain": [
       "(3483, 25)"
      ]
     },
     "execution_count": 50,
     "metadata": {},
     "output_type": "execute_result"
    }
   ],
   "source": [
    "X_compas.shape"
   ]
  },
  {
   "cell_type": "markdown",
   "id": "63091fd6-3d5c-4fa4-b8a2-24dbf1598683",
   "metadata": {},
   "source": [
    "## Check Original Input Data"
   ]
  },
  {
   "cell_type": "code",
   "execution_count": 35,
   "id": "f392c399-2dad-4985-bef1-e1a7d63c348d",
   "metadata": {},
   "outputs": [],
   "source": [
    "adult_repr_files = np.load('./laftr/data/adult_original.npz')"
   ]
  },
  {
   "cell_type": "code",
   "execution_count": 36,
   "id": "a2ef547f-6740-43ae-b1d5-8e3318792809",
   "metadata": {},
   "outputs": [
    {
     "data": {
      "text/plain": [
       "['x_train',\n",
       " 'x_test',\n",
       " 'y_train',\n",
       " 'y_test',\n",
       " 'attr_train',\n",
       " 'attr_test',\n",
       " 'train_inds',\n",
       " 'valid_inds']"
      ]
     },
     "execution_count": 36,
     "metadata": {},
     "output_type": "execute_result"
    }
   ],
   "source": [
    "adult_repr_files.files"
   ]
  },
  {
   "cell_type": "code",
   "execution_count": 37,
   "id": "f8b1e916-688a-4f65-a017-c218c23d11c8",
   "metadata": {},
   "outputs": [],
   "source": [
    "original_x_train = adult_repr_files['x_train']"
   ]
  },
  {
   "cell_type": "code",
   "execution_count": 38,
   "id": "8f2b94c5-34dc-4b48-8d99-9573bab2a1d6",
   "metadata": {},
   "outputs": [
    {
     "data": {
      "text/plain": [
       "(30162, 112)"
      ]
     },
     "execution_count": 38,
     "metadata": {},
     "output_type": "execute_result"
    }
   ],
   "source": [
    "original_x_train.shape"
   ]
  },
  {
   "cell_type": "code",
   "execution_count": 39,
   "id": "1db8d052-86bd-40bf-9b06-1b872bef1122",
   "metadata": {},
   "outputs": [],
   "source": [
    "original_y_train = adult_repr_files['y_train']"
   ]
  },
  {
   "cell_type": "code",
   "execution_count": 40,
   "id": "45049cd0-d8ff-4aa1-9672-5239c9773f2f",
   "metadata": {},
   "outputs": [
    {
     "data": {
      "text/plain": [
       "(30162, 2)"
      ]
     },
     "execution_count": 40,
     "metadata": {},
     "output_type": "execute_result"
    }
   ],
   "source": [
    "original_y_train.shape"
   ]
  },
  {
   "cell_type": "code",
   "execution_count": 41,
   "id": "0b870c0d-eb8e-4fcd-9bb5-f39666596ba5",
   "metadata": {},
   "outputs": [],
   "source": [
    "original_A_train = adult_repr_files['attr_train']"
   ]
  },
  {
   "cell_type": "code",
   "execution_count": 42,
   "id": "f8ebc57b-9ce0-4f78-af36-a0491f37e6ab",
   "metadata": {},
   "outputs": [
    {
     "data": {
      "text/plain": [
       "(30162, 1)"
      ]
     },
     "execution_count": 42,
     "metadata": {},
     "output_type": "execute_result"
    }
   ],
   "source": [
    "original_A_train.shape"
   ]
  },
  {
   "cell_type": "code",
   "execution_count": 43,
   "id": "7151ae51-2b9a-4e3a-84ce-c787ac5492c3",
   "metadata": {},
   "outputs": [
    {
     "data": {
      "text/plain": [
       "24130"
      ]
     },
     "execution_count": 43,
     "metadata": {},
     "output_type": "execute_result"
    }
   ],
   "source": [
    "original_train_inds = adult_repr_files['train_inds']\n",
    "len(original_train_inds)"
   ]
  },
  {
   "cell_type": "markdown",
   "id": "18ce75e0-d64c-401b-8e1a-b9d36f27103a",
   "metadata": {},
   "source": [
    "## Check output"
   ]
  },
  {
   "cell_type": "code",
   "execution_count": 36,
   "id": "73e3b0df-331c-45ba-829a-19d654030828",
   "metadata": {},
   "outputs": [],
   "source": [
    "os.chdir('/nas/longleaf/home/xianwen/fairness/fair_bench')"
   ]
  },
  {
   "cell_type": "code",
   "execution_count": 37,
   "id": "e325762b-d567-41d1-a8bc-fcd452173658",
   "metadata": {},
   "outputs": [],
   "source": [
    "adult_repr_folder = './laftr/experiments/laftr/adult/npz'"
   ]
  },
  {
   "cell_type": "code",
   "execution_count": 38,
   "id": "dabccd8d-5b43-4699-83cb-2950cc6acfd2",
   "metadata": {},
   "outputs": [
    {
     "ename": "FileNotFoundError",
     "evalue": "[Errno 2] No such file or directory: './laftr/experiments/laftr/adult/npz/Z.npz'",
     "output_type": "error",
     "traceback": [
      "\u001b[0;31m---------------------------------------------------------------------------\u001b[0m",
      "\u001b[0;31mFileNotFoundError\u001b[0m                         Traceback (most recent call last)",
      "Cell \u001b[0;32mIn[38], line 1\u001b[0m\n\u001b[0;32m----> 1\u001b[0m adult_repr_files \u001b[38;5;241m=\u001b[39m \u001b[43mnp\u001b[49m\u001b[38;5;241;43m.\u001b[39;49m\u001b[43mload\u001b[49m\u001b[43m(\u001b[49m\u001b[43mos\u001b[49m\u001b[38;5;241;43m.\u001b[39;49m\u001b[43mpath\u001b[49m\u001b[38;5;241;43m.\u001b[39;49m\u001b[43mjoin\u001b[49m\u001b[43m(\u001b[49m\u001b[43madult_repr_folder\u001b[49m\u001b[43m,\u001b[49m\u001b[43m \u001b[49m\u001b[38;5;124;43m'\u001b[39;49m\u001b[38;5;124;43mZ.npz\u001b[39;49m\u001b[38;5;124;43m'\u001b[39;49m\u001b[43m)\u001b[49m\u001b[43m)\u001b[49m\n\u001b[1;32m      2\u001b[0m \u001b[38;5;28mprint\u001b[39m(adult_repr_files\u001b[38;5;241m.\u001b[39mfiles)\n",
      "File \u001b[0;32m/nas/longleaf/rhel8/apps/anaconda/2023.03.ood/lib/python3.10/site-packages/numpy/lib/npyio.py:427\u001b[0m, in \u001b[0;36mload\u001b[0;34m(file, mmap_mode, allow_pickle, fix_imports, encoding, max_header_size)\u001b[0m\n\u001b[1;32m    425\u001b[0m     own_fid \u001b[38;5;241m=\u001b[39m \u001b[38;5;28;01mFalse\u001b[39;00m\n\u001b[1;32m    426\u001b[0m \u001b[38;5;28;01melse\u001b[39;00m:\n\u001b[0;32m--> 427\u001b[0m     fid \u001b[38;5;241m=\u001b[39m stack\u001b[38;5;241m.\u001b[39menter_context(\u001b[38;5;28;43mopen\u001b[39;49m\u001b[43m(\u001b[49m\u001b[43mos_fspath\u001b[49m\u001b[43m(\u001b[49m\u001b[43mfile\u001b[49m\u001b[43m)\u001b[49m\u001b[43m,\u001b[49m\u001b[43m \u001b[49m\u001b[38;5;124;43m\"\u001b[39;49m\u001b[38;5;124;43mrb\u001b[39;49m\u001b[38;5;124;43m\"\u001b[39;49m\u001b[43m)\u001b[49m)\n\u001b[1;32m    428\u001b[0m     own_fid \u001b[38;5;241m=\u001b[39m \u001b[38;5;28;01mTrue\u001b[39;00m\n\u001b[1;32m    430\u001b[0m \u001b[38;5;66;03m# Code to distinguish from NumPy binary files and pickles.\u001b[39;00m\n",
      "\u001b[0;31mFileNotFoundError\u001b[0m: [Errno 2] No such file or directory: './laftr/experiments/laftr/adult/npz/Z.npz'"
     ]
    }
   ],
   "source": [
    "adult_repr_files = np.load(os.path.join(adult_repr_folder, 'Z.npz'))\n",
    "print(adult_repr_files.files)"
   ]
  },
  {
   "cell_type": "code",
   "execution_count": 6,
   "id": "c4d97972-0957-4003-81aa-981313eeb52e",
   "metadata": {},
   "outputs": [],
   "source": [
    "adult_repr = adult_repr_files['X']"
   ]
  },
  {
   "cell_type": "code",
   "execution_count": 7,
   "id": "8fff6d32-79a9-4bc6-bcec-134a53419609",
   "metadata": {},
   "outputs": [
    {
     "data": {
      "text/plain": [
       "numpy.ndarray"
      ]
     },
     "execution_count": 7,
     "metadata": {},
     "output_type": "execute_result"
    }
   ],
   "source": [
    "type(adult_repr)"
   ]
  },
  {
   "cell_type": "code",
   "execution_count": 8,
   "id": "35aa90bf-85ed-430e-81fd-8e7bea4090c1",
   "metadata": {},
   "outputs": [
    {
     "data": {
      "text/plain": [
       "(16256, 8)"
      ]
     },
     "execution_count": 8,
     "metadata": {},
     "output_type": "execute_result"
    }
   ],
   "source": [
    "adult_repr.shape"
   ]
  },
  {
   "cell_type": "code",
   "execution_count": 9,
   "id": "30b6a863-eaaf-453c-b7cc-84b01d8eb69b",
   "metadata": {},
   "outputs": [
    {
     "name": "stdout",
     "output_type": "stream",
     "text": [
      "['X']\n",
      "['X']\n"
     ]
    }
   ],
   "source": [
    "adult_Y_files = np.load(os.path.join(adult_repr_folder, 'Y.npz'))\n",
    "print(adult_Y_files.files)\n",
    "adult_A_files = np.load(os.path.join(adult_repr_folder, 'A.npz'))\n",
    "print(adult_A_files.files)"
   ]
  },
  {
   "cell_type": "code",
   "execution_count": 10,
   "id": "3a872bc6-2271-4128-83f8-d8d0ebd4320a",
   "metadata": {},
   "outputs": [],
   "source": [
    "adult_Y = adult_Y_files['X']\n",
    "adult_A = adult_A_files['X']"
   ]
  },
  {
   "cell_type": "code",
   "execution_count": 11,
   "id": "f5abc1bf-ca15-452b-9b40-82a3e98b5f56",
   "metadata": {},
   "outputs": [
    {
     "data": {
      "text/plain": [
       "(16256, 1)"
      ]
     },
     "execution_count": 11,
     "metadata": {},
     "output_type": "execute_result"
    }
   ],
   "source": [
    "adult_Y.shape"
   ]
  },
  {
   "cell_type": "code",
   "execution_count": 12,
   "id": "39c6f4d7-4ec4-4b4a-995e-f01a8c7f0fce",
   "metadata": {},
   "outputs": [
    {
     "data": {
      "text/plain": [
       "(16256, 1)"
      ]
     },
     "execution_count": 12,
     "metadata": {},
     "output_type": "execute_result"
    }
   ],
   "source": [
    "adult_A.shape"
   ]
  },
  {
   "cell_type": "code",
   "execution_count": 17,
   "id": "8153244b-0e0a-4640-8cd4-15a00fbe1d30",
   "metadata": {},
   "outputs": [
    {
     "data": {
      "text/plain": [
       "array([[  2.36800551,   0.51488698,  -6.43933821,   6.79883909,\n",
       "          0.74656892,  -7.35176182,  -2.16689491,   2.14770246],\n",
       "       [  7.53996086,  -4.16956949,   6.33677673,  -1.14231133,\n",
       "          6.37594318,   2.90546417,  -3.3146472 ,  -2.78796458],\n",
       "       [ -8.4270525 ,   3.16050935,  -2.48712921,   7.05414772,\n",
       "         -1.6574012 ,  -9.32408428,   3.33772087,   3.27774405],\n",
       "       [-13.54678631,   3.83303809,   1.67139149,   6.61534023,\n",
       "         -2.2252059 ,  -6.50504494,   5.50798273,   6.998456  ],\n",
       "       [ -0.551359  ,  -0.43889219,  -6.03802681,   2.55526471,\n",
       "         -3.26362801,  -1.40658844,  -0.77790767,   3.21221495],\n",
       "       [  1.39876151,   1.26004899,  -5.35414743,   5.25246954,\n",
       "          0.6025672 ,  -1.66529596,  -1.46500587,   4.44032478],\n",
       "       [  6.9448843 ,  -5.41585302,  -3.94848156,   6.16019726,\n",
       "          2.49489999,  -8.06780243,  -5.9266572 ,  -0.92539805],\n",
       "       [ -1.38108146,  -2.6848805 ,   5.42455244,  -1.83300877,\n",
       "          0.47482109,  -1.38401449,   0.91148943,  -2.35191035],\n",
       "       [  0.09242903,  -1.24352157,  -3.12381697,   0.33443817,\n",
       "         -2.09515452,   2.36079311,  -0.62691563,   2.44411945],\n",
       "       [  1.34148705,   0.02465439,   6.67257261,   8.33802032,\n",
       "          8.00817204,   1.02267802,  -1.34047413,   4.19149494]])"
      ]
     },
     "execution_count": 17,
     "metadata": {},
     "output_type": "execute_result"
    }
   ],
   "source": [
    "adult_repr[0:10]"
   ]
  }
 ],
 "metadata": {
  "kernelspec": {
   "display_name": "Python 3 (ipykernel)",
   "language": "python",
   "name": "python3"
  },
  "language_info": {
   "codemirror_mode": {
    "name": "ipython",
    "version": 3
   },
   "file_extension": ".py",
   "mimetype": "text/x-python",
   "name": "python",
   "nbconvert_exporter": "python",
   "pygments_lexer": "ipython3",
   "version": "3.10.9"
  }
 },
 "nbformat": 4,
 "nbformat_minor": 5
}
