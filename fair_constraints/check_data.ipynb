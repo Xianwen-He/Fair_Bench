{
 "cells": [
  {
   "cell_type": "code",
   "execution_count": 1,
   "id": "38147fc3-4299-42e4-b507-b79ee897131f",
   "metadata": {},
   "outputs": [],
   "source": [
    "import utils as ut\n",
    "import sys\n",
    "import numpy as np\n",
    "import pandas as pd\n",
    "\n",
    "sys.path.insert(0, '../')\n",
    "from data.process_data import get_adult_data, get_compas_data"
   ]
  },
  {
   "cell_type": "code",
   "execution_count": 2,
   "id": "3a83be94-9348-4407-953c-9981263bc035",
   "metadata": {},
   "outputs": [],
   "source": [
    "DATASET ={\n",
    "\t'Adult':{\n",
    "\t\t'folder': '../data/adult',\n",
    "\t\t'SENSITIVE_ATTRS': ['gender_Female', 'gender_Male'],\n",
    "\t\t'INDICATOR': 'gender_Male',\n",
    "\t\t'func': get_adult_data,\n",
    "\t\t'sample': 10000\n",
    "    },\n",
    "\t'COMPAS':{\n",
    "\t\t'folder': '../data/compas',\n",
    "\t\t'SENSITIVE_ATTRS': ['race_African-American', 'race_Caucasian'],\n",
    "\t\t'INDICATOR': 'race_Caucasian',\n",
    "\t\t'func': get_compas_data,\n",
    "\t\t'sample': 2000\n",
    "    }\n",
    "}"
   ]
  },
  {
   "cell_type": "code",
   "execution_count": 3,
   "id": "2a5edfa6-1d79-4632-89dc-a18fde2da326",
   "metadata": {},
   "outputs": [],
   "source": [
    "data_name = 'Adult'\n",
    "profile = DATASET[data_name]\n",
    "\n",
    "### load data\n",
    "train_df, test_df, feature_names, label_name = profile['func'](profile['folder'])\n",
    "\n",
    "SENSITIVE_ATTRS = profile['SENSITIVE_ATTRS']\n",
    "INDICATOR = profile['INDICATOR']\n",
    "\t\n",
    "### prepare for the modeling\n",
    "# split x, y, and the sensitive attrs\n",
    "# prepare x for the linear classifier\n",
    "# convert y into {-1, 1}\n",
    "x_train, y_train, x_control_train, x_test, y_test, x_control_test = ut.process_train_test_df(train_df, test_df, label_name,\n",
    "\t\t\t\t\t\t\t\t\t\t\t\t\t\t\t\t\t\t\t\t\t\t\t   SENSITIVE_ATTRS, [INDICATOR],\n",
    "\t\t\t\t\t\t\t\t\t\t\t\t\t\t\t\t\t\t\t\t\t\t\t\tintercept=True, as_negative=True)"
   ]
  },
  {
   "cell_type": "code",
   "execution_count": 4,
   "id": "7e3f2601-d45d-40a4-91e9-8f702d0d21b7",
   "metadata": {},
   "outputs": [
    {
     "data": {
      "text/plain": [
       "Index(['label', 'workclass_?', 'workclass_Federal-gov', 'workclass_Local-gov',\n",
       "       'workclass_Never-worked', 'workclass_Private', 'workclass_Self-emp-inc',\n",
       "       'workclass_Self-emp-not-inc', 'workclass_State-gov',\n",
       "       'workclass_Without-pay',\n",
       "       ...\n",
       "       'capital_loss_3', 'hours_per_week_0', 'hours_per_week_1',\n",
       "       'hours_per_week_2', 'hours_per_week_3', 'education_num_0',\n",
       "       'education_num_1', 'education_num_2', 'education_num_3',\n",
       "       'native_country_Holand-Netherlands'],\n",
       "      dtype='object', length=123)"
      ]
     },
     "execution_count": 4,
     "metadata": {},
     "output_type": "execute_result"
    }
   ],
   "source": [
    "train_df.columns"
   ]
  },
  {
   "cell_type": "code",
   "execution_count": 5,
   "id": "b0f991ef-1e3d-4720-a673-396745d4891f",
   "metadata": {},
   "outputs": [
    {
     "data": {
      "text/plain": [
       "122"
      ]
     },
     "execution_count": 5,
     "metadata": {},
     "output_type": "execute_result"
    }
   ],
   "source": [
    "len(feature_names)"
   ]
  },
  {
   "cell_type": "code",
   "execution_count": 6,
   "id": "35febb48-c910-4e97-a428-c85a1aabd295",
   "metadata": {},
   "outputs": [
    {
     "data": {
      "text/plain": [
       "(32561, 121)"
      ]
     },
     "execution_count": 6,
     "metadata": {},
     "output_type": "execute_result"
    }
   ],
   "source": [
    "x_train.shape"
   ]
  },
  {
   "cell_type": "code",
   "execution_count": 7,
   "id": "976b1c0a-eaba-4a56-8bd2-3d74971081ff",
   "metadata": {},
   "outputs": [
    {
     "data": {
      "text/plain": [
       "array([-1., -1., -1., -1., -1., -1., -1.,  1.,  1.,  1.])"
      ]
     },
     "execution_count": 7,
     "metadata": {},
     "output_type": "execute_result"
    }
   ],
   "source": [
    "y_train[0:10]"
   ]
  },
  {
   "cell_type": "code",
   "execution_count": 8,
   "id": "a49e57cf-399a-48c0-9e05-0c9314bee48f",
   "metadata": {},
   "outputs": [
    {
     "data": {
      "text/plain": [
       "dict_keys(['gender_Male'])"
      ]
     },
     "execution_count": 8,
     "metadata": {},
     "output_type": "execute_result"
    }
   ],
   "source": [
    "x_control_train.keys()"
   ]
  },
  {
   "cell_type": "code",
   "execution_count": 10,
   "id": "55a5a4b9-43dc-430b-9a71-173d7b3c62a0",
   "metadata": {},
   "outputs": [
    {
     "data": {
      "text/plain": [
       "array([1., 1., 1., 1., 0., 0., 0., 1., 0., 1.])"
      ]
     },
     "execution_count": 10,
     "metadata": {},
     "output_type": "execute_result"
    }
   ],
   "source": [
    "x_control_train[INDICATOR][0:10]"
   ]
  },
  {
   "cell_type": "code",
   "execution_count": 12,
   "id": "8a457bad-ab8c-4022-80a2-55bfd4614c12",
   "metadata": {},
   "outputs": [],
   "source": [
    "data_name = 'COMPAS'\n",
    "profile = DATASET[data_name]\n",
    "\n",
    "### load data\n",
    "train_df, test_df, feature_names, label_name = profile['func'](profile['folder'])\n",
    "\n",
    "SENSITIVE_ATTRS = profile['SENSITIVE_ATTRS']\n",
    "INDICATOR = profile['INDICATOR']\n",
    "\t\n",
    "### prepare for the modeling\n",
    "# split x, y, and the sensitive attrs\n",
    "# prepare x for the linear classifier\n",
    "# convert y into {-1, 1}\n",
    "x_train, y_train, x_control_train, x_test, y_test, x_control_test = ut.process_train_test_df(train_df, test_df, label_name,\n",
    "\t\t\t\t\t\t\t\t\t\t\t\t\t\t\t\t\t\t\t\t\t\t\t   SENSITIVE_ATTRS, [INDICATOR],\n",
    "\t\t\t\t\t\t\t\t\t\t\t\t\t\t\t\t\t\t\t\t\t\t\t\tintercept=True, as_negative=True)"
   ]
  },
  {
   "cell_type": "code",
   "execution_count": 13,
   "id": "0835981c-1ca5-4ba9-8834-fb9b2ae17066",
   "metadata": {},
   "outputs": [
    {
     "data": {
      "text/plain": [
       "Index(['days_b_screening_arrest', 'c_charge_degree_F', 'c_charge_degree_M',\n",
       "       'race_African-American', 'race_Caucasian', 'score_text_High',\n",
       "       'score_text_Low', 'score_text_Medium', 'sex_Female', 'sex_Male',\n",
       "       'age_0', 'age_1', 'age_2', 'age_3', 'age_4', 'age_5', 'decile_score_0',\n",
       "       'decile_score_1', 'decile_score_2', 'decile_score_3', 'decile_score_4',\n",
       "       'decile_score_5', 'priors_count_0.0', 'priors_count_1.0',\n",
       "       'priors_count_2.0', 'priors_count_3.0', 'priors_count_4.0',\n",
       "       'two_year_norecid'],\n",
       "      dtype='object')"
      ]
     },
     "execution_count": 13,
     "metadata": {},
     "output_type": "execute_result"
    }
   ],
   "source": [
    "train_df.columns"
   ]
  },
  {
   "cell_type": "code",
   "execution_count": 14,
   "id": "0599a380-3ad9-4983-a15a-8ef89d4abea4",
   "metadata": {},
   "outputs": [
    {
     "data": {
      "text/plain": [
       "27"
      ]
     },
     "execution_count": 14,
     "metadata": {},
     "output_type": "execute_result"
    }
   ],
   "source": [
    "len(feature_names)"
   ]
  },
  {
   "cell_type": "code",
   "execution_count": 15,
   "id": "29df9ac1-307f-4c6e-9e03-a7b51234f59c",
   "metadata": {},
   "outputs": [
    {
     "data": {
      "text/plain": [
       "(3483, 26)"
      ]
     },
     "execution_count": 15,
     "metadata": {},
     "output_type": "execute_result"
    }
   ],
   "source": [
    "x_train.shape"
   ]
  },
  {
   "cell_type": "code",
   "execution_count": 16,
   "id": "3fcfad33-1d65-45c5-9f58-31d3941df58d",
   "metadata": {},
   "outputs": [
    {
     "data": {
      "text/plain": [
       "dict_keys(['race_Caucasian'])"
      ]
     },
     "execution_count": 16,
     "metadata": {},
     "output_type": "execute_result"
    }
   ],
   "source": [
    "x_control_train.keys()"
   ]
  },
  {
   "cell_type": "code",
   "execution_count": 17,
   "id": "99b97d8e-5aa2-480a-b8a4-c6e7b2785148",
   "metadata": {},
   "outputs": [
    {
     "data": {
      "text/plain": [
       "array([0., 1., 0., 0., 0., 0., 0., 1., 0., 0.])"
      ]
     },
     "execution_count": 17,
     "metadata": {},
     "output_type": "execute_result"
    }
   ],
   "source": [
    "x_control_train[INDICATOR][0:10]"
   ]
  },
  {
   "cell_type": "code",
   "execution_count": null,
   "id": "801fc0e3-0035-4de6-98ed-54bbdd7021ec",
   "metadata": {},
   "outputs": [],
   "source": []
  }
 ],
 "metadata": {
  "kernelspec": {
   "display_name": "Python 3 (ipykernel)",
   "language": "python",
   "name": "python3"
  },
  "language_info": {
   "codemirror_mode": {
    "name": "ipython",
    "version": 3
   },
   "file_extension": ".py",
   "mimetype": "text/x-python",
   "name": "python",
   "nbconvert_exporter": "python",
   "pygments_lexer": "ipython3",
   "version": "3.10.9"
  }
 },
 "nbformat": 4,
 "nbformat_minor": 5
}
